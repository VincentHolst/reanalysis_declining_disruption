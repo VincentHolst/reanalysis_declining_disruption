{
 "cells": [
  {
   "cell_type": "code",
   "execution_count": 1,
   "metadata": {},
   "outputs": [],
   "source": [
    "#Note: robust standard errors are obtained via Stata\n",
    "#See Stata files\n",
    "#Python code is for figures and open-source reproducibility\n",
    "import config_declining_disruption as config\n",
    "import pandas as pd\n",
    "import numpy as np\n",
    "import gc\n",
    "\n",
    "from sklearn import config_context, linear_model #we use scikit-learn 1.2.0"
   ]
  },
  {
   "cell_type": "markdown",
   "metadata": {},
   "source": [
    "## Regression results for raw SciSciNet journal data "
   ]
  },
  {
   "cell_type": "markdown",
   "metadata": {},
   "source": [
    "Load the data "
   ]
  },
  {
   "cell_type": "code",
   "execution_count": null,
   "metadata": {},
   "outputs": [],
   "source": [
    "#Load the data \n",
    "data = pd.read_csv(config.DATA_PATH + 'SciSciNet_df_raw_journal_data.csv')\n",
    "\n",
    "#Only keep the relevant columns\n",
    "data=data[[\"PaperID\", \"cd_5\", \"year\", \"Field_Name\", \"Team_Size\", \"references\"]]\n",
    "\n",
    "#Rename the year to Year for consistency\n",
    "data.rename(columns={\"year\":\"Year\"}, inplace=True)\n",
    "\n",
    "#Drop rows with missing values\n",
    "data.dropna(subset=[\"cd_5\", \n",
    "                    \"Year\", \n",
    "                    \"Field_Name\", \n",
    "                    \"Team_Size\", \n",
    "                    ], inplace=True)\n",
    "\n",
    "data.reset_index(drop=True, inplace=True)"
   ]
  },
  {
   "cell_type": "markdown",
   "metadata": {},
   "source": [
    "Prepare data for regression"
   ]
  },
  {
   "cell_type": "code",
   "execution_count": null,
   "metadata": {},
   "outputs": [],
   "source": [
    "#Create dummies\n",
    "grant_year_dummies = pd.get_dummies(data[\"Year\"], prefix=\"Year\")\n",
    "grant_year_dummies.drop(\"Year_1944\", axis=1, inplace=True)\n",
    "\n",
    "subfield_dummies = pd.get_dummies(data[\"Field_Name\"], prefix=\"Field\")\n",
    "subfield_dummies.drop(\"Field_Biology\", axis=1, inplace=True)\n",
    "\n",
    "#Create control variables\n",
    "data[\"no_of_papers_subfield_t\"] = data.groupby(\n",
    "    [\"Year\", \"Field_Name\"]\n",
    ")[\"PaperID\"].transform(\"size\")\n",
    "\n",
    "data[\"no_of_references_subfield_t\"] = data.groupby(\n",
    "    [\"Year\", \"Field_Name\"]\n",
    ")[\"references\"].transform(\"sum\")\n",
    "\n",
    "data[\"no_of_authors_subfield_t\"] = data.groupby(\n",
    "    [\"Year\", \"Field_Name\"]\n",
    ")[\"Team_Size\"].transform(\"sum\")\n",
    "\n",
    "data[\"no_of_references_mean_subfield_t\"] = data[\"no_of_references_subfield_t\"] / data[\"no_of_papers_subfield_t\"]\n",
    "data[\"no_of_authors_mean_subfield_t\"] = data[\"no_of_authors_subfield_t\"] / data[\"no_of_papers_subfield_t\"]\n",
    "\n",
    "#New control\n",
    "data[\"bin_0\"] = data[\"references\"].apply(lambda x: 1 if x == 0 else 0)\n",
    "\n",
    "#Data\n",
    "x = pd.concat(\n",
    "    [\n",
    "        grant_year_dummies,\n",
    "        subfield_dummies,\n",
    "        data[\"references\"],\n",
    "        data[\"no_of_authors_mean_subfield_t\"],\n",
    "        data[\"no_of_references_mean_subfield_t\"],\n",
    "        data[\"no_of_papers_subfield_t\"],\n",
    "    ],\n",
    "    axis=1,\n",
    ")\n",
    "\n",
    "x_0 = pd.concat(\n",
    "    [\n",
    "        grant_year_dummies,\n",
    "        subfield_dummies,\n",
    "        data[\"references\"],\n",
    "        data[\"no_of_authors_mean_subfield_t\"],\n",
    "        data[\"no_of_references_mean_subfield_t\"],\n",
    "        data[\"no_of_papers_subfield_t\"],\n",
    "        data[\"bin_0\"],\n",
    "    ],\n",
    "    axis=1,\n",
    ")\n",
    "\n",
    "y = data[\"cd_5\"]"
   ]
  },
  {
   "cell_type": "markdown",
   "metadata": {},
   "source": [
    "Run the regressions"
   ]
  },
  {
   "cell_type": "code",
   "execution_count": null,
   "metadata": {},
   "outputs": [
    {
     "name": "stdout",
     "output_type": "stream",
     "text": [
      "Adjusted R-squared for regression without dummy at zero ref:  0.15585605832839922\n",
      "Adjusted R-squared for regression with dummy at zero ref:  0.9320422587789884\n"
     ]
    }
   ],
   "source": [
    "###Regression - takes 5 mins with these optimizations\n",
    "#Large data set - use cholesky solver\n",
    "# https://github.com/scikit-learn/scikit-learn/issues/13923\n",
    "# https://github.com/scikit-learn/scikit-learn/pull/22940\n",
    "with config_context(assume_finite=True):\n",
    "    model_1 = linear_model.Ridge(alpha=1e-9, solver=\"cholesky\").fit(x, y)\n",
    "\n",
    "with config_context(assume_finite=True):\n",
    "    model_2 = linear_model.Ridge(alpha=1e-9, solver=\"cholesky\").fit(x_0, y)\n",
    "\n",
    "###Compute residuals\n",
    "data[\"preds_1\"] = model_1.predict(x)\n",
    "data[\"preds_2\"] = model_2.predict(x_0)\n",
    "\n",
    "data[\"residuals_1\"] = y - data[\"preds_1\"]\n",
    "residuals_1=data[\"residuals_1\"].to_numpy()\n",
    "data[\"residuals_2\"] = y - data[\"preds_2\"]\n",
    "residuals_2=data[\"residuals_2\"].to_numpy()\n",
    "\n",
    "#Print Adjusted R-squared of the models\n",
    "print(\"Adjusted R-squared for regression without dummy at zero ref: \",1-(1-model_1.score(x,y))*((len(x)-1)/(len(x)-len(x.columns)-1)))\n",
    "print(\"Adjusted R-squared for regression with dummy at zero ref: \",1-(1-model_2.score(x_0,y))*((len(x_0)-1)/(len(x_0)-len(x_0.columns)-1)))\n",
    "\n",
    "#Save the residuals \n",
    "np.save(config.DATA_PATH + \"SciSciNet_residuals_1_raw_journal_data.npy\", residuals_1)\n",
    "np.save(config.DATA_PATH + \"SciSciNet_residuals_2_raw_journal_data.npy\", residuals_2)"
   ]
  },
  {
   "cell_type": "markdown",
   "metadata": {},
   "source": [
    "Compute and save the margins "
   ]
  },
  {
   "cell_type": "code",
   "execution_count": 12,
   "metadata": {},
   "outputs": [],
   "source": [
    "#Compute margins - takes 120 mins\n",
    "# https://www.stata.com/meeting/germany13/abstracts/materials/de13_jann.pdf\n",
    "#See slides 14-15\n",
    "#Make predictions with original data, but for each year set grant_year_i = 1\n",
    "x[grant_year_dummies.columns] = 0\n",
    "x_0[grant_year_dummies.columns] = 0\n",
    "\n",
    "margins = pd.DataFrame(\n",
    "    {\n",
    "        \"Years\": list(range(int(data[\"Year\"].min()), int(data[\"Year\"].max()+1)))\n",
    "    }\n",
    ")\n",
    "\n",
    "for i in range(int(data[\"Year\"].min()), int(data[\"Year\"].max()+1)):\n",
    "\n",
    "    if i > 1944:\n",
    "        x[f\"Year_{i}\"] = 1\n",
    "        x_0[f\"Year_{i}\"] = 1\n",
    "   \n",
    "    margins.loc[margins[\"Years\"] == i, \"margins_original\"] = model_1.predict(x).mean()\n",
    "    margins.loc[margins[\"Years\"] == i, \"margins_zero_refs\"] = model_2.predict(x_0).mean()\n",
    "\n",
    "    if i > 1944:\n",
    "        x[f\"Year_{i}\"] = 0\n",
    "        x_0[f\"Year_{i}\"] = 0\n",
    "\n",
    "del model_1, model_2, x, x_0\n",
    "gc.collect()\n",
    "\n",
    "#Save margins\n",
    "margins.to_csv(config.DATA_PATH+\"SciSciNet_margins_raw_journal_data.csv\", index=False)"
   ]
  },
  {
   "cell_type": "markdown",
   "metadata": {},
   "source": [
    "Compute adjusted R^2 of models with dummies for 1, 2, 3, 4, 5 references"
   ]
  },
  {
   "cell_type": "code",
   "execution_count": null,
   "metadata": {},
   "outputs": [],
   "source": [
    "for i in range(1, 6):\n",
    "    data[f\"bin_{i}\"] = data[\"references\"].apply(lambda x: 1 if x == i else 0)"
   ]
  },
  {
   "cell_type": "code",
   "execution_count": null,
   "metadata": {},
   "outputs": [
    {
     "name": "stdout",
     "output_type": "stream",
     "text": [
      "Adjusted R-squared for regression with dummy at 1:  0.15898879717197967\n",
      "Adjusted R-squared for regression with dummy at 2:  0.1675493711906444\n",
      "Adjusted R-squared for regression with dummy at 3:  0.17020706232235427\n",
      "Adjusted R-squared for regression with dummy at 4:  0.17068992814188666\n",
      "Adjusted R-squared for regression with dummy at 5:  0.17033912842065835\n"
     ]
    }
   ],
   "source": [
    "for i in range(1, 6):\n",
    "    \n",
    "    x_new = pd.concat(\n",
    "    [\n",
    "        grant_year_dummies,\n",
    "        subfield_dummies,\n",
    "        data[\"references\"],\n",
    "        data[\"no_of_authors_mean_subfield_t\"],\n",
    "        data[\"no_of_references_mean_subfield_t\"],\n",
    "        data[\"no_of_papers_subfield_t\"],\n",
    "        data[\"bin_\"+str(i)],\n",
    "    ],\n",
    "    axis=1,\n",
    "    )\n",
    "\n",
    "    with config_context(assume_finite=True):\n",
    "        model_new = linear_model.Ridge(alpha=1e-9, solver=\"cholesky\").fit(x_new, y)\n",
    "\n",
    "    #Print Adjusted R-squared of the model\n",
    "    print(\"Adjusted R-squared for regression with dummy at \"+str(i)+\": \", 1-(1-model_new.score(x_new,y))*((len(x_new)-1)/(len(x_new)-len(x_new.columns)-1)))\n",
    "\n",
    "    del model_new, x_new\n",
    "    gc.collect()"
   ]
  }
 ],
 "metadata": {
  "kernelspec": {
   "display_name": "disruption",
   "language": "python",
   "name": "python3"
  },
  "language_info": {
   "codemirror_mode": {
    "name": "ipython",
    "version": 3
   },
   "file_extension": ".py",
   "mimetype": "text/x-python",
   "name": "python",
   "nbconvert_exporter": "python",
   "pygments_lexer": "ipython3",
   "version": "3.9.18"
  }
 },
 "nbformat": 4,
 "nbformat_minor": 2
}
