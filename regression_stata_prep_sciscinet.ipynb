{
 "cells": [
  {
   "cell_type": "code",
   "execution_count": 1,
   "metadata": {},
   "outputs": [],
   "source": [
    "import config_declining_disruption as config\n",
    "import pandas as pd\n",
    "\n",
    "#Read data\n",
    "data = pd.read_csv(config.DATA_PATH + \"SciSciNet_df.csv\")\n",
    "\n",
    "#Drop rows with missing values\n",
    "data.dropna(subset=[\"cd_5\", \"Year\", \"Field_Name\", \"Team_Size\"], inplace=True)\n",
    "\n",
    "#Create control variables\n",
    "data[\"no_of_papers_subfield_t\"] = data.groupby(\n",
    "    [\"Year\", \"Field_Name\"]\n",
    ")[\"PaperID\"].transform(\"size\")\n",
    "\n",
    "data[\"no_of_references_subfield_t\"] = data.groupby(\n",
    "    [\"Year\", \"Field_Name\"]\n",
    ")[\"references\"].transform(\"sum\")\n",
    "\n",
    "data[\"no_of_authors_subfield_t\"] = data.groupby(\n",
    "    [\"Year\", \"Field_Name\"]\n",
    ")[\"Team_Size\"].transform(\"sum\")\n",
    "\n",
    "data[\"no_of_references_mean_subfield_t\"] = data[\"no_of_references_subfield_t\"] / data[\"no_of_papers_subfield_t\"]\n",
    "data[\"no_of_authors_mean_subfield_t\"] = data[\"no_of_authors_subfield_t\"] / data[\"no_of_papers_subfield_t\"]\n",
    "\n",
    "data[\"year\"] = data[\"Year\"].astype(int)\n",
    "\n",
    "#Save\n",
    "data.to_stata(config.DATA_PATH + \"SciSciNet.dta\")"
   ]
  }
 ],
 "metadata": {
  "kernelspec": {
   "display_name": "Python 3",
   "language": "python",
   "name": "python3"
  },
  "language_info": {
   "codemirror_mode": {
    "name": "ipython",
    "version": 3
   },
   "file_extension": ".py",
   "mimetype": "text/x-python",
   "name": "python",
   "nbconvert_exporter": "python",
   "pygments_lexer": "ipython3",
   "version": "3.9.11"
  }
 },
 "nbformat": 4,
 "nbformat_minor": 2
}
