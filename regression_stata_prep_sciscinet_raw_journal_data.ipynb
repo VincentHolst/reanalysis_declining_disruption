{
 "cells": [
  {
   "cell_type": "code",
   "execution_count": null,
   "metadata": {},
   "outputs": [],
   "source": [
    "import config_declining_disruption as config\n",
    "import pandas as pd\n",
    "import numpy as np\n",
    "\n",
    "#Read data\n",
    "data = pd.read_csv(config.DATA_PATH + \"SciSciNet_df_raw_journal_data.csv\")\n",
    "\n",
    "#Only keep the relevant columns\n",
    "data=data[[\"PaperID\", \"cd_5\", \"year\", \"Field_Name\", \"Team_Size\", \"references\", \"forward_citations_5\"]]\n",
    "\n",
    "#Drop rows with missing values\n",
    "data.dropna(subset=[\"cd_5\", \"year\", \"Field_Name\", \"Team_Size\"], inplace=True)\n",
    "\n",
    "#Create control variables\n",
    "data[\"no_of_papers_subfield_t\"] = data.groupby(\n",
    "    [\"year\", \"Field_Name\"]\n",
    ")[\"PaperID\"].transform(\"size\")\n",
    "\n",
    "data[\"no_of_references_subfield_t\"] = data.groupby(\n",
    "    [\"year\", \"Field_Name\"]\n",
    ")[\"references\"].transform(\"sum\")\n",
    "\n",
    "data[\"no_of_authors_subfield_t\"] = data.groupby(\n",
    "    [\"year\", \"Field_Name\"]\n",
    ")[\"Team_Size\"].transform(\"sum\")\n",
    "\n",
    "data[\"no_of_references_mean_subfield_t\"] = data[\"no_of_references_subfield_t\"] / data[\"no_of_papers_subfield_t\"]\n",
    "data[\"no_of_authors_mean_subfield_t\"] = data[\"no_of_authors_subfield_t\"] / data[\"no_of_papers_subfield_t\"]\n",
    "\n",
    "data[\"year\"] = data[\"year\"].astype(int)\n",
    "\n",
    "#Save\n",
    "data.to_stata(config.DATA_PATH + \"SciSciNet_raw_journal_data.dta\")"
   ]
  }
 ],
 "metadata": {
  "kernelspec": {
   "display_name": "disruption",
   "language": "python",
   "name": "python3"
  },
  "language_info": {
   "codemirror_mode": {
    "name": "ipython",
    "version": 3
   },
   "file_extension": ".py",
   "mimetype": "text/x-python",
   "name": "python",
   "nbconvert_exporter": "python",
   "pygments_lexer": "ipython3",
   "version": "3.9.18"
  }
 },
 "nbformat": 4,
 "nbformat_minor": 2
}
